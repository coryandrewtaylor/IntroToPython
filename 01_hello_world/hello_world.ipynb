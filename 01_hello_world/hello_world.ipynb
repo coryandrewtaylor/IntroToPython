{
 "cells": [
  {
   "cell_type": "markdown",
   "metadata": {},
   "source": [
    "# Lesson 1: Hello, World!"
   ]
  },
  {
   "cell_type": "markdown",
   "metadata": {},
   "source": [
    "## Lesson Overview\n",
    "\n",
    "1. Introductions\n",
    "1. Administrivia\n",
    "    1. Homework/grading policy\n",
    "    1. Attendance policy\n",
    "    1. Class setup\n",
    "1. Install and configure programming environment\n",
    "1. Thoughts on programming\n",
    "1. Main idea of Python\n",
    "1. Your first Python program"
   ]
  },
  {
   "cell_type": "markdown",
   "metadata": {},
   "source": [
    "## Introductions\n",
    "\n",
    "1. About me\n",
    "1. About you\n",
    "1. How do you learn the best?"
   ]
  },
  {
   "cell_type": "markdown",
   "metadata": {},
   "source": [
    "## Course Goals\n",
    "\n",
    "1. To learn the basics of modern software development\n",
    "1. To learn Python for data analysis"
   ]
  },
  {
   "cell_type": "markdown",
   "metadata": {},
   "source": [
    "## Administrivia"
   ]
  },
  {
   "cell_type": "markdown",
   "metadata": {},
   "source": [
    "### Course GitHub Repo\n",
    "\n",
    "I maintain my copy of the course notes and code at https://github.com/coryandrewtaylor/IntroToPython. When we make changes during a lesson, I'll do my best to push them to master within 36 hours of class.\n",
    "\n",
    "If you catch any errors, typos, or other areas where the course could be improved, please submit an [issue](https://github.com/coryandrewtaylor/IntroToPython/issues)! I'd also encourage you to [fork](https://guides.github.com/activities/forking/) the course repo so that you can make your own notes and changes along the way."
   ]
  },
  {
   "cell_type": "markdown",
   "metadata": {},
   "source": [
    "### Attendance Policy\n",
    "\n",
    "Per AIM's policy, I'll be taking attendance each class. But I'm not a stickler. Life gets in the way sometimes!\n",
    "\n",
    "If you're going to be more than 15 minutes late, need to leave early, or have to miss class entirely, no worries--just shoot me an email and we'll work to get you caught back up."
   ]
  },
  {
   "cell_type": "markdown",
   "metadata": {},
   "source": [
    "### Class Time\n",
    "\n",
    "Each class session runs for four hours: 5:30--9:30 pm.\n",
    "\n",
    "The first hour/hour-and-a-half of class is devoted to reviewing the previous lesson. I'm relying on you to come prepared with questions! Otherwise, it's just an hour-long lecture on things you've already heard, and nobody wants that.\n",
    "\n",
    "We'll have three 10-minute breaks interspersed during the class period. I try to time things so that we have a break at the end of the first, second, and third hours. Though, depending on the flow of the lesson, we may have to shift them around occasionally."
   ]
  },
  {
   "cell_type": "markdown",
   "metadata": {},
   "source": [
    "## Installing and Configuring the Programming Environment"
   ]
  },
  {
   "cell_type": "markdown",
   "metadata": {},
   "source": [
    "### Windows-Specific Details\n",
    "\n",
    "1. Show file extensions\n",
    "1. Show hidden items\n",
    "1. Details view"
   ]
  },
  {
   "cell_type": "markdown",
   "metadata": {},
   "source": [
    "### Git and GitHub\n",
    "\n",
    "1. Sign up for GitHub: https://github.com/join\n",
    "1. Download and install GitHub Desktop: https://desktop.github.com/\n",
    "1. (Windows) Download and install Git for Windows: https://gitforwindows.org/\n",
    "1. Clone course repo."
   ]
  },
  {
   "cell_type": "markdown",
   "metadata": {},
   "source": [
    "### Anaconda\n",
    "\n",
    "1. Download and install: https://www.anaconda.com/products/individual\n",
    "1. GOTCHA: Make sure to select \"Add to PATH\"!"
   ]
  },
  {
   "cell_type": "markdown",
   "metadata": {},
   "source": [
    "### VS Code\n",
    "\n",
    "1. Download and install: https://code.visualstudio.com/\n",
    "1. Open cloned course repo.\n",
    "1. Install recommended extensions."
   ]
  },
  {
   "cell_type": "markdown",
   "metadata": {},
   "source": [
    "## Thoughts on Programming"
   ]
  },
  {
   "cell_type": "markdown",
   "metadata": {},
   "source": [
    "### What was Programming?\n",
    "\n",
    "Started as a way to do math on computing machines.\n",
    "\n",
    "![Charles Babbage's Analytical Engine](assets/img/babbage_analytical_engine_576x553.png)"
   ]
  },
  {
   "cell_type": "markdown",
   "metadata": {},
   "source": [
    "### Ada Lovelace, The First Programmer\n",
    "\n",
    "![Ada Lovelace](assets/img/ada_lovelace_498x623.png)"
   ]
  },
  {
   "cell_type": "markdown",
   "metadata": {},
   "source": [
    "### Computers in 1924\n",
    "\n",
    "![1920's computers at the Department of the Treasury](assets/img/1924_dept_treasury_computing_division.jpg)"
   ]
  },
  {
   "cell_type": "markdown",
   "metadata": {},
   "source": [
    "## Bugs and Debugging"
   ]
  },
  {
   "cell_type": "markdown",
   "metadata": {},
   "source": [
    "### The First Bug\n",
    "\n",
    "![The first computer bug](assets/img/first_computer_bug.jpg)"
   ]
  },
  {
   "cell_type": "markdown",
   "metadata": {},
   "source": [
    "### Meet Tom.\n",
    "\n",
    "![Milton Waddams](assets/img/milton_waddams.jpg)\n",
    "\n",
    "Tom wants to help when things go wrong! He just doesn't communicate very clearly."
   ]
  },
  {
   "cell_type": "code",
   "execution_count": 22,
   "metadata": {},
   "outputs": [
    {
     "ename": "SyntaxError",
     "evalue": "invalid syntax (<ipython-input-22-d14e6f3d0ea2>, line 1)",
     "output_type": "error",
     "traceback": [
      "\u001b[1;36m  File \u001b[1;32m\"<ipython-input-22-d14e6f3d0ea2>\"\u001b[1;36m, line \u001b[1;32m1\u001b[0m\n\u001b[1;33m    print(Hello, world!)\u001b[0m\n\u001b[1;37m                      ^\u001b[0m\n\u001b[1;31mSyntaxError\u001b[0m\u001b[1;31m:\u001b[0m invalid syntax\n"
     ]
    }
   ],
   "source": [
    "print(Hello, world!)"
   ]
  },
  {
   "cell_type": "markdown",
   "metadata": {},
   "source": [
    "A couple of ways to take Tom's advice:\n",
    "\n",
    "1. Try removing the offending code and re-running\n",
    "1. Google, Google, Google"
   ]
  },
  {
   "cell_type": "code",
   "execution_count": 23,
   "metadata": {},
   "outputs": [
    {
     "ename": "NameError",
     "evalue": "name 'Hello' is not defined",
     "output_type": "error",
     "traceback": [
      "\u001b[1;31m---------------------------------------------------------------------------\u001b[0m",
      "\u001b[1;31mNameError\u001b[0m                                 Traceback (most recent call last)",
      "\u001b[1;32m<ipython-input-23-9d33ee917430>\u001b[0m in \u001b[0;36m<module>\u001b[1;34m\u001b[0m\n\u001b[1;32m----> 1\u001b[1;33m \u001b[0mprint\u001b[0m\u001b[1;33m(\u001b[0m\u001b[0mHello\u001b[0m\u001b[1;33m,\u001b[0m \u001b[0mworld\u001b[0m\u001b[1;33m)\u001b[0m  \u001b[1;31m# Removed the `!`\u001b[0m\u001b[1;33m\u001b[0m\u001b[1;33m\u001b[0m\u001b[0m\n\u001b[0m",
      "\u001b[1;31mNameError\u001b[0m: name 'Hello' is not defined"
     ]
    }
   ],
   "source": [
    "print(Hello, world)  # Removed the `!`"
   ]
  },
  {
   "cell_type": "markdown",
   "metadata": {},
   "source": [
    "![Googling for NameError](./assets/img/google_nameerror.png)"
   ]
  },
  {
   "cell_type": "code",
   "execution_count": 24,
   "metadata": {},
   "outputs": [
    {
     "name": "stdout",
     "output_type": "stream",
     "text": [
      "Hello, world!\n"
     ]
    }
   ],
   "source": [
    "print(\"Hello, world!\")"
   ]
  },
  {
   "cell_type": "markdown",
   "metadata": {},
   "source": [
    "## About Python"
   ]
  },
  {
   "cell_type": "markdown",
   "metadata": {},
   "source": [
    "### What is Python?\n",
    "\n",
    "A user-friendly, general-purpose programming language\n",
    "\n",
    "* User-friendly: Much easier to use than many other popular languages\n",
    "* General-purpose: Can be used to write all sorts of programs"
   ]
  },
  {
   "cell_type": "markdown",
   "metadata": {},
   "source": [
    "### What is Python used for?\n",
    "\n",
    "* Web development\n",
    "* Systems administration\n",
    "* Data science and big data\n",
    "* Machine learning/AI"
   ]
  },
  {
   "cell_type": "markdown",
   "metadata": {},
   "source": [
    "### Writing and Running Python\n",
    "\n",
    "1. Python files\n",
    "    * code saved in a .py file\n",
    "    * invoked by running `python file.py` from command line\n",
    "1. Jupyter notebooks\n",
    "1. The REPL (*R*ead-*E*valuate-*P*rint *L*oop)"
   ]
  },
  {
   "cell_type": "markdown",
   "metadata": {},
   "source": [
    "## Main Idea of Python: Objects"
   ]
  },
  {
   "cell_type": "markdown",
   "metadata": {},
   "source": [
    "### Objects Can Be Things (Data)\n",
    "\n",
    "What is data?\n",
    "\n",
    "* It can be a single item, like a number or a string.\n",
    "* It can be a collection of items, like a list or a dictionary (or a database table, or the contents of a website, etc., etc.)."
   ]
  },
  {
   "cell_type": "code",
   "execution_count": 25,
   "metadata": {},
   "outputs": [
    {
     "data": {
      "text/plain": [
       "0"
      ]
     },
     "execution_count": 25,
     "metadata": {},
     "output_type": "execute_result"
    }
   ],
   "source": [
    "# A number (an int)\n",
    "0"
   ]
  },
  {
   "cell_type": "code",
   "execution_count": 26,
   "metadata": {},
   "outputs": [
    {
     "data": {
      "text/plain": [
       "'Python'"
      ]
     },
     "execution_count": 26,
     "metadata": {},
     "output_type": "execute_result"
    }
   ],
   "source": [
    "# A string\n",
    "\"Python\""
   ]
  },
  {
   "cell_type": "code",
   "execution_count": 27,
   "metadata": {},
   "outputs": [
    {
     "data": {
      "text/plain": [
       "['a', 'b', 'c']"
      ]
     },
     "execution_count": 27,
     "metadata": {},
     "output_type": "execute_result"
    }
   ],
   "source": [
    "# A list\n",
    "[\"a\", \"b\", \"c\"]"
   ]
  },
  {
   "cell_type": "code",
   "execution_count": 28,
   "metadata": {},
   "outputs": [
    {
     "data": {
      "text/plain": [
       "{'python': 'The most broadly useful programming language out there',\n",
       " 'sql': 'A beautiful language for databases',\n",
       " 'everything else': 'lol all kinda tied for last place tbh'}"
      ]
     },
     "execution_count": 28,
     "metadata": {},
     "output_type": "execute_result"
    }
   ],
   "source": [
    "# A dictionary\n",
    "{\n",
    "    \"python\": \"The most broadly useful programming language out there\",\n",
    "    \"sql\": \"A beautiful language for databases\",\n",
    "    \"everything else\": \"lol all kinda tied for last place tbh\",\n",
    "}"
   ]
  },
  {
   "cell_type": "markdown",
   "metadata": {},
   "source": [
    "### Sidenote: Objects Can Have Nametags\n",
    "\n",
    "* Objects are chunks of information stored in the computer's memory.\n",
    "* In order to *do* anything with an object, we have to give it a name.\n",
    "* Assigning names has several benefits:\n",
    "  * You can use the same object throughout your code.\n",
    "  * It makes code easier to read and understand."
   ]
  },
  {
   "cell_type": "code",
   "execution_count": 29,
   "metadata": {},
   "outputs": [],
   "source": [
    "zero = 0\n",
    "\n",
    "numbers = [1, 2, 3, 4, 5]\n",
    "\n",
    "programming_languages = {\n",
    "    \"python\": \"The most broadly useful programming language out there\",\n",
    "    \"sql\": \"A beautiful language for databases\",\n",
    "    \"everything else\": \"lol all kinda tied for last place tbh\",\n",
    "}"
   ]
  },
  {
   "cell_type": "code",
   "execution_count": 30,
   "metadata": {},
   "outputs": [
    {
     "data": {
      "text/plain": [
       "0"
      ]
     },
     "execution_count": 30,
     "metadata": {},
     "output_type": "execute_result"
    }
   ],
   "source": [
    "zero"
   ]
  },
  {
   "cell_type": "code",
   "execution_count": 31,
   "metadata": {},
   "outputs": [
    {
     "data": {
      "text/plain": [
       "[1, 2, 3, 4, 5]"
      ]
     },
     "execution_count": 31,
     "metadata": {},
     "output_type": "execute_result"
    }
   ],
   "source": [
    "numbers"
   ]
  },
  {
   "cell_type": "code",
   "execution_count": 32,
   "metadata": {},
   "outputs": [
    {
     "data": {
      "text/plain": [
       "{'python': 'The most broadly useful programming language out there',\n",
       " 'sql': 'A beautiful language for databases',\n",
       " 'everything else': 'lol all kinda tied for last place tbh'}"
      ]
     },
     "execution_count": 32,
     "metadata": {},
     "output_type": "execute_result"
    }
   ],
   "source": [
    "programming_languages"
   ]
  },
  {
   "cell_type": "markdown",
   "metadata": {},
   "source": [
    "### Objects Can Do Things (Functions)\n",
    "\n",
    "What are functions?\n",
    "\n",
    "* They take some input object(s) and do something with it (usually, returning a value).\n",
    "* Like data, can be named (multiple use) or unnamed (single-use).\n",
    "* Because they're objects, they can be passed around by name, *just like data*."
   ]
  },
  {
   "cell_type": "code",
   "execution_count": 33,
   "metadata": {},
   "outputs": [
    {
     "name": "stdout",
     "output_type": "stream",
     "text": [
      "Hello!\n"
     ]
    }
   ],
   "source": [
    "# Built-in function: `print()`\n",
    "print(\"Hello!\")"
   ]
  },
  {
   "cell_type": "code",
   "execution_count": 34,
   "metadata": {},
   "outputs": [
    {
     "data": {
      "text/plain": [
       "5"
      ]
     },
     "execution_count": 34,
     "metadata": {},
     "output_type": "execute_result"
    }
   ],
   "source": [
    "# Another built-in function: `len()`\n",
    "len(numbers)"
   ]
  },
  {
   "cell_type": "code",
   "execution_count": 35,
   "metadata": {},
   "outputs": [
    {
     "data": {
      "text/plain": [
       "10"
      ]
     },
     "execution_count": 35,
     "metadata": {},
     "output_type": "execute_result"
    }
   ],
   "source": [
    "# Named function\n",
    "def add(x, y):\n",
    "    return x + y\n",
    "\n",
    "add(5, 5)"
   ]
  },
  {
   "cell_type": "code",
   "execution_count": 36,
   "metadata": {},
   "outputs": [],
   "source": [
    "# Passing a function like data\n",
    "def apply(func, data):\n",
    "    return func(data)"
   ]
  },
  {
   "cell_type": "code",
   "execution_count": 37,
   "metadata": {},
   "outputs": [
    {
     "data": {
      "text/plain": [
       "5"
      ]
     },
     "execution_count": 37,
     "metadata": {},
     "output_type": "execute_result"
    }
   ],
   "source": [
    "apply(len, numbers)"
   ]
  },
  {
   "cell_type": "code",
   "execution_count": 38,
   "metadata": {},
   "outputs": [
    {
     "data": {
      "text/plain": [
       "3"
      ]
     },
     "execution_count": 38,
     "metadata": {},
     "output_type": "execute_result"
    }
   ],
   "source": [
    "apply(len, [\"a\", \"b\", \"c\"])"
   ]
  },
  {
   "cell_type": "code",
   "execution_count": 39,
   "metadata": {},
   "outputs": [],
   "source": [
    "# Lambda expression (anonymous function)\n",
    "# Notice the similarity to a data expression?\n",
    "doubler = lambda x: x * 2"
   ]
  },
  {
   "cell_type": "code",
   "execution_count": 40,
   "metadata": {},
   "outputs": [
    {
     "data": {
      "text/plain": [
       "20"
      ]
     },
     "execution_count": 40,
     "metadata": {},
     "output_type": "execute_result"
    }
   ],
   "source": [
    "doubler(10)"
   ]
  },
  {
   "cell_type": "markdown",
   "metadata": {},
   "source": [
    "### Objects Can Be *and* Do Things (Classes)\n",
    "\n",
    "What are classes?\n",
    "\n",
    "* Self-contained collections of data and functions"
   ]
  },
  {
   "cell_type": "code",
   "execution_count": 41,
   "metadata": {},
   "outputs": [],
   "source": [
    "import math\n",
    "\n",
    "class Point:\n",
    "    def __init__(self, x, y):\n",
    "        self.x = x\n",
    "        self.y = y\n",
    "        \n",
    "    def distance_to(self, other):\n",
    "        _x_distance = self.x - other.x\n",
    "        _y_distance = self.y - other.y\n",
    "        # Pythagorean theorem to the rescue!\n",
    "        _hypotenuse = math.sqrt((_x_distance ** 2) + (_y_distance ** 2))\n",
    "        return _hypotenuse"
   ]
  },
  {
   "cell_type": "code",
   "execution_count": 42,
   "metadata": {},
   "outputs": [
    {
     "data": {
      "text/plain": [
       "5.0"
      ]
     },
     "execution_count": 42,
     "metadata": {},
     "output_type": "execute_result"
    }
   ],
   "source": [
    "point_a = Point(0, 0)\n",
    "point_b = Point(3, 4)\n",
    "point_a.distance_to(point_b)"
   ]
  },
  {
   "cell_type": "code",
   "execution_count": 43,
   "metadata": {},
   "outputs": [
    {
     "data": {
      "text/plain": [
       "True"
      ]
     },
     "execution_count": 43,
     "metadata": {},
     "output_type": "execute_result"
    }
   ],
   "source": [
    "point_c = Point(1, 1)\n",
    "point_a.distance_to(point_c) == math.sqrt(2)"
   ]
  },
  {
   "cell_type": "markdown",
   "metadata": {},
   "source": [
    "## Your First Python Program"
   ]
  },
  {
   "cell_type": "code",
   "execution_count": null,
   "metadata": {},
   "outputs": [],
   "source": []
  }
 ],
 "metadata": {
  "kernelspec": {
   "display_name": "Python 3",
   "language": "python",
   "name": "python3"
  },
  "language_info": {
   "codemirror_mode": {
    "name": "ipython",
    "version": 3
   },
   "file_extension": ".py",
   "mimetype": "text/x-python",
   "name": "python",
   "nbconvert_exporter": "python",
   "pygments_lexer": "ipython3",
   "version": "3.8.5"
  }
 },
 "nbformat": 4,
 "nbformat_minor": 4
}
