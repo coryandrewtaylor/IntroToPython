{
 "cells": [
  {
   "cell_type": "markdown",
   "metadata": {},
   "source": [
    "# Flask"
   ]
  },
  {
   "cell_type": "markdown",
   "metadata": {},
   "source": [
    "The first step when creating a Flask app is to set up a virtual environment. \n",
    "\n",
    "First, open GitHub Desktop and pull down the latest version of this repository."
   ]
  },
  {
   "cell_type": "markdown",
   "metadata": {},
   "source": [
    "If you're on Windows, open a new Command Prompt window. On Mac/Linux, open a new Terminal window. Then run:\n",
    "\n",
    "```sh\n",
    "cd <git_root_folder>/IntroToPython/04_flask_intro\n",
    "pip install pipenv\n",
    "pipenv install --dev\n",
    "pipenv shell\n",
    "```"
   ]
  },
  {
   "cell_type": "markdown",
   "metadata": {},
   "source": [
    "Afterward, keep the terminal window open.\n",
    "\n",
    "(FYI: I'll be using the terms \"command prompt,\" \"command line,\" \"terminal,\" and \"shell\" interchangeably. Just remember that if you're on Windows, I'm referring to Command Prompt, and if you're on Mac/Linux, I'm talking about Terminal.)"
   ]
  },
  {
   "cell_type": "markdown",
   "metadata": {},
   "source": [
    "Inside the `04_flask_intro` folder, create a new file called `backend.py`. Put the following code inside it."
   ]
  },
  {
   "cell_type": "code",
   "execution_count": 28,
   "metadata": {},
   "outputs": [],
   "source": [
    "from flask import Flask\n",
    "\n",
    "app = Flask(__name__)\n",
    "\n",
    "\n",
    "@app.route(\"/\")\n",
    "def greet():\n",
    "    _greeting = {\"greeting\": \"Hello, world!\"}\n",
    "    return _greeting\n"
   ]
  },
  {
   "cell_type": "markdown",
   "metadata": {},
   "source": [
    "Save `backend.py`. Then, in your command prompt, run:"
   ]
  },
  {
   "cell_type": "markdown",
   "metadata": {},
   "source": [
    "Windows (Command Prompt):\n",
    "\n",
    "```sh\n",
    "set FLASK_APP=backend.py\n",
    "set FLASK_ENV=development\n",
    "flask run\n",
    "```"
   ]
  },
  {
   "cell_type": "markdown",
   "metadata": {},
   "source": [
    "Windows (PowerShell):\n",
    "\n",
    "```ps1\n",
    "$env:FLASK_APP = \"backend.py\"\n",
    "$env:FLASK_ENV = \"development\"\n",
    "flask run\n",
    "```"
   ]
  },
  {
   "cell_type": "markdown",
   "metadata": {},
   "source": [
    "Mac/Linux:\n",
    "\n",
    "```sh\n",
    "export FLASK_APP=backend.py\n",
    "export FLASK_ENV=development\n",
    "flask run\n",
    "```"
   ]
  },
  {
   "cell_type": "markdown",
   "metadata": {},
   "source": [
    "Your Flask app will be available at the URL `http://localhost:5000/`.\n",
    "\n",
    "If we send a GET request to that URL, we should receive the following JSON object in response:\n",
    "\n",
    "```JSON\n",
    "{\n",
    "    \"greeting\": \"Hello, world!\"\n",
    "}\n",
    "```\n",
    "\n",
    "Let's test our API with `requests`."
   ]
  },
  {
   "cell_type": "code",
   "execution_count": null,
   "metadata": {},
   "outputs": [],
   "source": [
    "import requests\n",
    "\n",
    "r = requests.get(\"http://localhost:5000/\")\n",
    "response = r.json()\n",
    "expected_response = {\"greeting\": \"Hello, world!\"}\n",
    "\n",
    "response == expected_response"
   ]
  },
  {
   "cell_type": "markdown",
   "metadata": {},
   "source": [
    "The above cell is a basic example of a unit test. So let's rewrite it a bit and turn it into something we can run automatically with `pytest`."
   ]
  },
  {
   "cell_type": "code",
   "execution_count": 29,
   "metadata": {},
   "outputs": [],
   "source": [
    "import requests\n",
    "\n",
    "BASE_URL = \"http://localhost:5000\"\n",
    "\n",
    "\n",
    "def test_index(base_url=BASE_URL, endpoint=\"/\"):\n",
    "    _url = f\"{base_url}{endpoint}\"\n",
    "    _r = requests.get(_url)\n",
    "    _response = _r.json()\n",
    "    _expected_response = {\"greeting\": \"Hello, world!\"}\n",
    "    assert _response == _expected_response\n"
   ]
  },
  {
   "cell_type": "markdown",
   "metadata": {},
   "source": [
    "Create a new file called `test_backend.py` in the same directory as `backend.py`. Paste the above code into it.\n",
    "\n",
    "Save `test_backend.py`. Make sure your Flask app is running. Then open a new command prompt and run:\n",
    "\n",
    "```sh\n",
    "cd <git_root_folder>/IntroToPython/04_flask_intro\n",
    "pipenv run pytest\n",
    "```"
   ]
  },
  {
   "cell_type": "markdown",
   "metadata": {},
   "source": [
    "Looking back at our `greet()` function, it seems logical to have another endpoint point to it. So let's add a line to `backend.py` to add that functionality."
   ]
  },
  {
   "cell_type": "markdown",
   "metadata": {},
   "source": [
    "```python\n",
    "@app.route(\"/\")\n",
    "@app.route(\"/greeting\")\n",
    "def greet():\n",
    "    _greeting = {\"greeting\": \"Hello, world!\"}\n",
    "    return _greeting\n",
    "```"
   ]
  },
  {
   "cell_type": "markdown",
   "metadata": {},
   "source": [
    "Then add another function to `test_backend.py` to test our new endpoint."
   ]
  },
  {
   "cell_type": "code",
   "execution_count": 31,
   "metadata": {},
   "outputs": [],
   "source": [
    "def test_greet(base_url=BASE_URL, endpoint=\"/greeting\"):\n",
    "    test_index(base_url=base_url, endpoint=endpoint)\n"
   ]
  },
  {
   "cell_type": "markdown",
   "metadata": {},
   "source": [
    "Run `pipenv run pytest` to verify that the app is working correctly."
   ]
  },
  {
   "cell_type": "markdown",
   "metadata": {},
   "source": [
    "Let's take our `/greeting` endpoint one step further: let's greet a user by their name. Add this to `backend.py`:"
   ]
  },
  {
   "cell_type": "code",
   "execution_count": 33,
   "metadata": {},
   "outputs": [],
   "source": [
    "@app.route(\"/greeting/<user>\")\n",
    "def greet_user(user):\n",
    "    _response = {\"greeting\": \"Hello\", \"user\": user}\n",
    "    return _response\n"
   ]
  },
  {
   "cell_type": "markdown",
   "metadata": {},
   "source": [
    "And add a corresponding test to `test_backend.py`:"
   ]
  },
  {
   "cell_type": "code",
   "execution_count": 34,
   "metadata": {},
   "outputs": [],
   "source": [
    "def test_greet_user(base_url=BASE_URL, endpoint=\"/greeting\"):\n",
    "    _users = [\"James\", \"Anna\", \"Beowulf\", \"Hildegard\"]\n",
    "    for _user in _users:\n",
    "        _url = f\"{base_url}{endpoint}/{_user}\"\n",
    "        _r = requests.get(_url)\n",
    "        _response = _r.json()\n",
    "        _expected_response = {\"greeting\": \"Hello\", \"user\": _user}\n",
    "        assert _response == _expected_response\n"
   ]
  },
  {
   "cell_type": "code",
   "execution_count": null,
   "metadata": {},
   "outputs": [],
   "source": [
    "@app.route(\"/math/sum\", methods=[\"POST\"])\n",
    "def add_by_api():\n",
    "    _to_add = request.form.getlist(\"add\")\n",
    "    _all_addable = all(n.isnumeric() for n in _to_add)\n",
    "    if _all_addable and _to_add is not None:\n",
    "        _sum = sum(float(n) for n in _to_add)\n",
    "        return {\"sum\": _sum}, 200\n",
    "    else:\n",
    "        return 'Bad request', 400"
   ]
  },
  {
   "cell_type": "code",
   "execution_count": null,
   "metadata": {},
   "outputs": [],
   "source": [
    "{\"add\": [1, 2, 3, 4, 5]}"
   ]
  },
  {
   "cell_type": "code",
   "execution_count": 3,
   "metadata": {},
   "outputs": [],
   "source": [
    "x = \"1324565\""
   ]
  },
  {
   "cell_type": "code",
   "execution_count": 4,
   "metadata": {},
   "outputs": [
    {
     "data": {
      "text/plain": [
       "True"
      ]
     },
     "execution_count": 4,
     "metadata": {},
     "output_type": "execute_result"
    }
   ],
   "source": [
    "x.isnumeric()"
   ]
  },
  {
   "cell_type": "code",
   "execution_count": null,
   "metadata": {},
   "outputs": [],
   "source": []
  }
 ],
 "metadata": {
  "kernelspec": {
   "display_name": "Python 3",
   "language": "python",
   "name": "python3"
  },
  "language_info": {
   "codemirror_mode": {
    "name": "ipython",
    "version": 3
   },
   "file_extension": ".py",
   "mimetype": "text/x-python",
   "name": "python",
   "nbconvert_exporter": "python",
   "pygments_lexer": "ipython3",
   "version": "3.8.5"
  }
 },
 "nbformat": 4,
 "nbformat_minor": 4
}
